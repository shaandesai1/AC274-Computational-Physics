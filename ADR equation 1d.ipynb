{
 "cells": [
  {
   "cell_type": "code",
   "execution_count": 1,
   "metadata": {
    "collapsed": true
   },
   "outputs": [],
   "source": [
    "import numpy as np\n",
    "import matplotlib.pyplot as plt\n",
    "% matplotlib inline\n",
    "import time\n"
   ]
  },
  {
   "cell_type": "code",
   "execution_count": 2,
   "metadata": {
    "collapsed": false
   },
   "outputs": [
    {
     "name": "stdout",
     "output_type": "stream",
     "text": [
      "2.0292478701013037\n"
     ]
    }
   ],
   "source": [
    "# declare arrays\n",
    "\n",
    "nx = 100\n",
    "nm = 4\n",
    "x = np.zeros(nx)\n",
    "f = np.zeros(nx+2)\n",
    "fnew = np.zeros(nx+2)\n",
    "fmom = np.zeros(nm+2)\n",
    "hmom = np.zeros(nm+2)\n",
    "xmom = np.zeros(nm+2)\n",
    "main = []\n",
    "# baseline parameters\n",
    "Nsteps = 10000\n",
    "nout = 100\n",
    "sizex = 1.0\n",
    "dx = sizex/float(nx-1)\n",
    "dif = 0.1\n",
    "vel = 0.1\n",
    "cha = 10.0\n",
    "chb = 1.0\n",
    "# mesh size and CFL numbers\n",
    "dx = sizex/float(nx-1)\n",
    "cfld = 0.1\n",
    "cfla = 0.1\n",
    "dtd = cfld*dx*dx/dif\n",
    "dta = cfla*dx/vel\n",
    "a = cfld+0.5*cfla\n",
    "b = cfld-0.5*cfla\n",
    "c = 1.-a-b\n",
    "dt = min(dta,dtd)\n",
    "\n",
    "sigma = 4*dx\n",
    "for i in range(nx):\n",
    "    x[i] = dx*float(i)\n",
    "    xj = (x[i]-sizex/2)/sigma\n",
    "    f[i+1] = np.exp(-0.5*xj*xj)\n",
    "#plt.plot(x,f[1:-1])\n",
    "main.append(np.copy(f))\n",
    "start = time.clock()\n",
    "for j in range(0,Nsteps):\n",
    "    f[0] = f[nx]\n",
    "    f[nx+1] = f[1]\n",
    "    for k in range(1,nx+1):\n",
    "        fnew[k] = a*f[k-1] + c*f[k] + b*f[k+1]\n",
    "    for k in range(1,nx+1):\n",
    "        f[k] = fnew[k]\n",
    "    main.append(np.copy(f))\n",
    "print(time.clock() - start)    \n",
    "main = np.array(main)\n",
    "\n"
   ]
  },
  {
   "cell_type": "code",
   "execution_count": null,
   "metadata": {
    "collapsed": true
   },
   "outputs": [],
   "source": []
  }
 ],
 "metadata": {
  "kernelspec": {
   "display_name": "Python 3",
   "language": "python",
   "name": "python3"
  },
  "language_info": {
   "codemirror_mode": {
    "name": "ipython",
    "version": 3
   },
   "file_extension": ".py",
   "mimetype": "text/x-python",
   "name": "python",
   "nbconvert_exporter": "python",
   "pygments_lexer": "ipython3",
   "version": "3.6.0"
  }
 },
 "nbformat": 4,
 "nbformat_minor": 2
}
