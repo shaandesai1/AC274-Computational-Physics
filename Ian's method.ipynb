{
 "cells": [
  {
   "cell_type": "code",
   "execution_count": 1,
   "metadata": {
    "collapsed": true
   },
   "outputs": [],
   "source": [
    "import numpy as np\n",
    "import matplotlib.pyplot as plt\n",
    "% matplotlib inline\n",
    "def gnd(lop):\n",
    "    nx=101\n",
    "    nm=4\n",
    "    x = np.zeros(nx+2)\n",
    "    fnew = np.zeros(nx+2)\n",
    "    f = np.zeros(nx+2)\n",
    "    pot = np.zeros(nx+2)\n",
    "    fmom = np.zeros(nm+1)\n",
    "    hmom = np.zeros(nm+1)\n",
    "    Nsteps = 15000\n",
    "    nout   = 200\n",
    "    main = []\n",
    "    ptracker = []\n",
    "    ptracker2 = []\n",
    "    mvar = []\n",
    "    qp = []\n",
    "    fstar = np.zeros(nx+2)\n",
    "    qpot = np.zeros(nx+2)\n",
    "    tt = []\n",
    "    lop = lop\n",
    "    sizex  = 10.0\n",
    "    dx     = sizex/float(nx-1)\n",
    "    dif    = 1.0\n",
    "    vel    = 0.0\n",
    "    vamp   = 1.0   \n",
    "    cfl   = 0.10\n",
    "    dtd   = 1.0\n",
    "    if(dif !=0.0):\n",
    "        dtd = dx*dx/dif\n",
    "    dta   = 1.0\n",
    "    if(vel != 0.0):\n",
    "        dta = dx/vel\n",
    "    dtc   = 1.0\n",
    "    if(vamp !=0.0):\n",
    "        dtc = 1.0/(vamp*sizex*sizex)\n",
    "\n",
    "    dt    = cfl*min(min(dta,dtd),dtc)\n",
    "\n",
    "    alfa   = vel*dt/dx\n",
    "    delta  = dif*dt/(dx*dx)\n",
    "    \n",
    "    wid = 1\n",
    "    # define potential and function\n",
    "    for j in range(1,nx+2): \n",
    "        pot[j] = 0\n",
    "        x[j]   = dx*float(j-1-nx/2)\n",
    "        xj     = x[j]/wid\n",
    "\n",
    "        f[j]   = (1.0+0.5*xj)*np.exp(-0.5*xj*xj)\n",
    "        if lop == 0:\n",
    "            pot[j] = 2*0.5*vamp*x[j]*x[j]\n",
    "        if lop == 1:\n",
    "            xi = -3.\n",
    "            xf = 3.\n",
    "            if (x[j]<xi) or (x[j]>xf):\n",
    "                pot[j] = 100\n",
    "    print(dt,dx)\n",
    "    # Normalizing\n",
    "    coef = 0\n",
    "    for j in range(1,nx+1): \n",
    "        coef = coef + dx*f[j]*f[j]\n",
    "    for j in range(1,nx+1): \n",
    "        f[j] /= np.sqrt(coef)\n",
    "    main.append(np.copy(f))\n",
    "    for tim in range(1,Nsteps):\n",
    "        time = (tim-1)*dt\n",
    "        f[0]    = f[nx]\n",
    "        f[nx+1] = f[1]\n",
    "        for j in range(1,nx+1):\n",
    "            a = delta+0.5*alfa\n",
    "            b = delta-0.5*alfa\n",
    "            c = 1.0-a-b-pot[j]*dt\n",
    "            fnew[j] = a*f[j-1]+c*f[j]+b*f[j+1]\n",
    "\n",
    "        for j in range(1,nx+1):\n",
    "            f[j] = fnew[j]\n",
    "        main.append(np.copy(f))\n",
    "                \n",
    "        if(np.mod(tim,nout) == 1):\n",
    "            for m in range(nm+1):\n",
    "                fmom[m] = 0.0\n",
    "                hmom[m] = 0.0\n",
    "            # track point \n",
    "            ptracker.append(np.copy(f[50]))\n",
    "            for j in range(1,nx+1):\n",
    "                if f[j] > 10**(-8):\n",
    "                    pass\n",
    "                    #qpot[j]= np.sqrt(f[j-1])-2.0*np.sqrt(f[j])+np.sqrt(f[j+1])\n",
    "                    #qpot[j]=-qpot[j]/(dx*dx*np.sqrt(f[j]))\n",
    "                else:\n",
    "                    qpot[j]=0.0\n",
    "\n",
    "                fj = f[j]\n",
    "                fmom[0] = fmom[0] + fj*dx\n",
    "                fmom[1] = fmom[1]+ fj*x[j]*dx\n",
    "                fmom[2] = fmom[2]+ fj*x[j]*x[j]*dx\n",
    "                hmom[2] = hmom[2] + fj*fj*dx\n",
    "                fmean = fmom[1]/fmom[0]\n",
    "                fvar  = fmom[2]/fmom[0]-fmean*fmean\n",
    "            mvar.append((np.copy(fmom[0]),np.copy(fmean),fvar))\n",
    "            qp.append(np.copy(qpot))\n",
    "            tt.append(time)\n",
    "    return main,mvar,x,pot,tt,qp,ptracker"
   ]
  },
  {
   "cell_type": "code",
   "execution_count": 2,
   "metadata": {
    "collapsed": false
   },
   "outputs": [
    {
     "name": "stdout",
     "output_type": "stream",
     "text": [
      "0.001 0.1\n"
     ]
    }
   ],
   "source": [
    "main,mvar,x,pot,tt,qp,ptracker = gnd(0)\n",
    "main = np.array(main)\n",
    "dx = 0.1\n",
    "dt = 0.001"
   ]
  },
  {
   "cell_type": "code",
   "execution_count": 3,
   "metadata": {
    "collapsed": true
   },
   "outputs": [],
   "source": [
    "psinit = main[0,1:-1]\n",
    "psio = main[9000,1:-1]"
   ]
  },
  {
   "cell_type": "code",
   "execution_count": 4,
   "metadata": {
    "collapsed": true
   },
   "outputs": [],
   "source": [
    "c2 = np.trapz(psio*psio,dx=dx)"
   ]
  },
  {
   "cell_type": "code",
   "execution_count": 5,
   "metadata": {
    "collapsed": true
   },
   "outputs": [],
   "source": [
    "psio = psio/np.sqrt(c2)"
   ]
  },
  {
   "cell_type": "code",
   "execution_count": 6,
   "metadata": {
    "collapsed": true
   },
   "outputs": [],
   "source": [
    "maincoef = np.trapz(psio*psinit,dx=dx)\n",
    "psio = np.sqrt(maincoef)*psio"
   ]
  },
  {
   "cell_type": "code",
   "execution_count": 7,
   "metadata": {
    "collapsed": false
   },
   "outputs": [
    {
     "name": "stdout",
     "output_type": "stream",
     "text": [
      "0.001 0.1\n"
     ]
    }
   ],
   "source": [
    "nx=101\n",
    "nm=4\n",
    "x = np.zeros(nx+2)\n",
    "fnew = np.zeros(nx+2)\n",
    "f = np.zeros(nx+2)\n",
    "pot = np.zeros(nx+2)\n",
    "fmom = np.zeros(nm+1)\n",
    "hmom = np.zeros(nm+1)\n",
    "Nsteps = 15000\n",
    "nout   = 200\n",
    "lop = 0\n",
    "main = []\n",
    "ptracker = []\n",
    "ptracker2 = []\n",
    "mvar = []\n",
    "qp = []\n",
    "fstar = np.zeros(nx+2)\n",
    "qpot = np.zeros(nx+2)\n",
    "tt = []\n",
    "lop = lop\n",
    "sizex  = 10.0\n",
    "dx     = sizex/float(nx-1)\n",
    "dif    = 1.0\n",
    "vel    = 0.0\n",
    "vamp   = 1.0   \n",
    "cfl   = 0.10\n",
    "dtd   = 1.0\n",
    "if(dif !=0.0):\n",
    "    dtd = dx*dx/dif\n",
    "dta   = 1.0\n",
    "if(vel != 0.0):\n",
    "    dta = dx/vel\n",
    "dtc   = 1.0\n",
    "if(vamp !=0.0):\n",
    "    dtc = 1.0/(vamp*sizex*sizex)\n",
    "\n",
    "dt    = cfl*min(min(dta,dtd),dtc)\n",
    "\n",
    "alfa   = vel*dt/dx\n",
    "delta  = dif*dt/(dx*dx)\n",
    "\n",
    "wid = 1\n",
    "# define potential and function\n",
    "for j in range(1,nx+2): \n",
    "    pot[j] = 0\n",
    "    x[j]   = dx*float(j-1-nx/2)\n",
    "    xj     = x[j]/wid\n",
    "\n",
    "    f[j]   = (1.0+0.5*xj)*np.exp(-0.5*xj*xj)\n",
    "    if lop == 0:\n",
    "        pot[j] = 2*0.5*vamp*x[j]*x[j]\n",
    "    if lop == 1:\n",
    "        xi = -3.\n",
    "        xf = 3.\n",
    "        if (x[j]<xi) or (x[j]>xf):\n",
    "            pot[j] = 100\n",
    "print(dt,dx)\n",
    "# Normalizing\n",
    "coef = 0\n",
    "for j in range(1,nx+1): \n",
    "    coef = coef + dx*f[j]*f[j]\n",
    "for j in range(1,nx+1): \n",
    "    f[j] /= np.sqrt(coef)\n",
    "\n",
    "f[1:-1] = f[1:-1]-psio\n",
    "\n",
    "coef = 0\n",
    "for j in range(1,nx+1): \n",
    "    coef = coef + dx*f[j]*f[j]\n",
    "for j in range(1,nx+1): \n",
    "    f[j] /= np.sqrt(coef)\n",
    "\n",
    "\n",
    "main.append(np.copy(f))\n",
    "\n",
    "\n",
    "for tim in range(1,Nsteps):\n",
    "    time = (tim-1)*dt\n",
    "    f[0]    = f[nx]\n",
    "    f[nx+1] = f[1]\n",
    "    for j in range(1,nx+1):\n",
    "        a = delta+0.5*alfa\n",
    "        b = delta-0.5*alfa\n",
    "        c = 1.0-a-b-pot[j]*dt\n",
    "        fnew[j] = a*f[j-1]+c*f[j]+b*f[j+1]\n",
    "\n",
    "    for j in range(1,nx+1):\n",
    "        f[j] = fnew[j]\n",
    "    main.append(np.copy(f))\n",
    "\n",
    "    if(np.mod(tim,nout) == 1):\n",
    "        for m in range(nm+1):\n",
    "            fmom[m] = 0.0\n",
    "            hmom[m] = 0.0\n",
    "        # track point \n",
    "        ptracker.append(np.copy(f[23]))\n",
    "        for j in range(1,nx+1):\n",
    "            if f[j] > 10**(-8):\n",
    "                pass\n",
    "                #qpot[j]= np.sqrt(f[j-1])-2.0*np.sqrt(f[j])+np.sqrt(f[j+1])\n",
    "                #qpot[j]=-qpot[j]/(dx*dx*np.sqrt(f[j]))\n",
    "            else:\n",
    "                qpot[j]=0.0\n",
    "\n",
    "            fj = f[j]\n",
    "            fmom[0] = fmom[0] + fj*dx\n",
    "            fmom[1] = fmom[1]+ fj*x[j]*dx\n",
    "            fmom[2] = fmom[2]+ fj*x[j]*x[j]*dx\n",
    "            hmom[2] = hmom[2] + fj*fj*dx\n",
    "            fmean = fmom[1]/fmom[0]\n",
    "            fvar  = fmom[2]/fmom[0]-fmean*fmean\n",
    "        mvar.append((np.copy(fmom[0]),np.copy(fmean),fvar))\n",
    "        qp.append(np.copy(qpot))\n",
    "        tt.append(time)"
   ]
  },
  {
   "cell_type": "code",
   "execution_count": 8,
   "metadata": {
    "collapsed": false
   },
   "outputs": [
    {
     "data": {
      "image/png": "[encoded data removed]",
      "text/plain": [
       "<matplotlib.figure.Figure at 0x258f92c1518>"
      ]
     },
     "metadata": {},
     "output_type": "display_data"
    }
   ],
   "source": [
    "plt.plot(tt,ptracker)\n",
    "tt = np.array(tt)\n",
    "ptracker = np.array(ptracker)\n",
    "a,b = np.polyfit(tt[0:5],np.log(-ptracker[0:5]),1)"
   ]
  },
  {
   "cell_type": "code",
   "execution_count": 14,
   "metadata": {
    "collapsed": false
   },
   "outputs": [
    {
     "data": {
      "text/plain": [
       "-0.9709834927953569"
      ]
     },
     "execution_count": 14,
     "metadata": {},
     "output_type": "execute_result"
    }
   ],
   "source": [
    "main = np.array(main)\n",
    "cc = np.trapz(main[14000,1:-1]*main[14000,1:-1],dx=dx)\n",
    "np.trapz(psio*(1/np.sqrt(cc))*main[14000,1:-1],dx=dx)"
   ]
  },
  {
   "cell_type": "code",
   "execution_count": 13,
   "metadata": {
    "collapsed": false
   },
   "outputs": [
    {
     "name": "stdout",
     "output_type": "stream",
     "text": [
      "the energy of first excited state is = -2.90899774789\n"
     ]
    }
   ],
   "source": [
    "print('the energy of first excited state is = %s' %a)"
   ]
  },
  {
   "cell_type": "code",
   "execution_count": null,
   "metadata": {
    "collapsed": true
   },
   "outputs": [],
   "source": []
  }
 ],
 "metadata": {
  "kernelspec": {
   "display_name": "Python 3",
   "language": "python",
   "name": "python3"
  },
  "language_info": {
   "codemirror_mode": {
    "name": "ipython",
    "version": 3
   },
   "file_extension": ".py",
   "mimetype": "text/x-python",
   "name": "python",
   "nbconvert_exporter": "python",
   "pygments_lexer": "ipython3",
   "version": "3.6.0"
  }
 },
 "nbformat": 4,
 "nbformat_minor": 2
}
